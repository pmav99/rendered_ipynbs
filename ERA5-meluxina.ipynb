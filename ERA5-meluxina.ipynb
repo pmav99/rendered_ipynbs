{
 "cells": [
  {
   "cell_type": "markdown",
   "id": "558c76de-d03f-462e-a7e6-379be9deb716",
   "metadata": {},
   "source": [
    "# ERA5 - check input"
   ]
  },
  {
   "cell_type": "code",
   "execution_count": null,
   "id": "cb47202a-a346-4843-b1fc-9cedad1c966d",
   "metadata": {},
   "outputs": [],
   "source": [
    "%matplotlib widget\n",
    "\n",
    "import cartopy\n",
    "import hvplot.pandas\n",
    "import hvplot.xarray\n",
    "import holoviews as hv\n",
    "import numpy as np\n",
    "import pandas as pd\n",
    "import matplotlib.pyplot as plt\n",
    "import xarray as xr\n",
    "\n",
    "hv.extension(\"bokeh\")"
   ]
  },
  {
   "cell_type": "code",
   "execution_count": null,
   "id": "339bd2a5-7a5f-4932-8a74-6c8316a7f0f1",
   "metadata": {},
   "outputs": [],
   "source": [
    "from dask.distributed import LocalCluster\n",
    "cluster = LocalCluster()          # Fully-featured local Dask cluster\n",
    "cluster"
   ]
  },
  {
   "cell_type": "code",
   "execution_count": null,
   "id": "33ff0fef-e9fe-4b45-a418-d8ce8549ac62",
   "metadata": {},
   "outputs": [],
   "source": [
    "client = cluster.get_client()\n",
    "client"
   ]
  },
  {
   "cell_type": "code",
   "execution_count": null,
   "id": "187f48c4-1845-4a91-818b-991eac181894",
   "metadata": {},
   "outputs": [],
   "source": [
    "chunks = {}\n",
    "chunks = dict(\n",
    "    time=120, \n",
    "    longitude=20, \n",
    "    latitude=20,\n",
    ")\n",
    "\n",
    "era5 = xr.open_mfdataset(\n",
    "    \"/project/home/p200232/02_meteo/era5/lon_lat/netcdf/2023*.nc\",\n",
    "    chunks=chunks,\n",
    ")\n",
    "era5"
   ]
  },
  {
   "cell_type": "code",
   "execution_count": null,
   "id": "04b46a57-3a94-45d4-8b19-d5293531eb33",
   "metadata": {},
   "outputs": [],
   "source": [
    "window = dict(\n",
    "    time=slice(\"2023-07-12\", \"2023-07-17\"),\n",
    "    latitude=slice(30, 0), \n",
    "    longitude=slice(210, 260),\n",
    ")\n",
    "\n",
    "era5_window = era5.sel(**window).load()"
   ]
  },
  {
   "cell_type": "code",
   "execution_count": null,
   "id": "85512f02-5f1c-458b-8ae1-bcb634d4871a",
   "metadata": {},
   "outputs": [],
   "source": [
    "# Convert MSL to kPa!\n",
    "if era5_window.msl.max() > 10_000:\n",
    "    era5_window[\"msl\"] = era5_window.msl / 1000"
   ]
  },
  {
   "cell_type": "code",
   "execution_count": null,
   "id": "0342a91f-9b3c-44c1-b0a6-6b84c4492821",
   "metadata": {},
   "outputs": [],
   "source": [
    "plot_options = dict(frame_width=500)"
   ]
  },
  {
   "cell_type": "code",
   "execution_count": null,
   "id": "b9797e85-3e80-4ad0-9d1a-f7917eb7dfae",
   "metadata": {},
   "outputs": [],
   "source": [
    "msl_min = era5_window.msl.min(\"time\")"
   ]
  },
  {
   "cell_type": "code",
   "execution_count": null,
   "id": "7acad361-9fa5-4898-a6dc-a2b3308f6eb1",
   "metadata": {},
   "outputs": [],
   "source": [
    "msl_min.hvplot(\n",
    "    x=\"longitude\", \n",
    "    y=\"latitude\", \n",
    "    title=\"min MSL (kPa)\",\n",
    "    geo=True,\n",
    "    coastline=True,\n",
    ").options(**plot_options)"
   ]
  },
  {
   "cell_type": "code",
   "execution_count": null,
   "id": "fd1365b4-5bb2-464c-8596-4f1735661733",
   "metadata": {},
   "outputs": [],
   "source": [
    "# Contours make things a bit clearer\n",
    "msl_min.hvplot.contourf(\n",
    "    x=\"longitude\", \n",
    "    y=\"latitude\", \n",
    "    title=\"min msl (kPa)\",\n",
    "    levels=10,\n",
    "    geo=True,\n",
    "    coastline=True,\n",
    ").options(**plot_options)"
   ]
  },
  {
   "cell_type": "code",
   "execution_count": null,
   "id": "335f5e22-ed99-4d9e-8ddf-7fd7c53af510",
   "metadata": {},
   "outputs": [],
   "source": [
    "era5_window.msl.groupby(\"time\", squeeze=False).map(np.min).hvplot(grid=True, title=\"min MSL over window (kPa)\")"
   ]
  },
  {
   "cell_type": "code",
   "execution_count": null,
   "id": "eaec4c1e-c74e-4fa4-9e79-e071fcf7dbb1",
   "metadata": {},
   "outputs": [],
   "source": [
    "# Animation\n",
    "era5_window.msl.hvplot.contourf(\n",
    "    groupby=\"time\",\n",
    "    x=\"longitude\", \n",
    "    y=\"latitude\",\n",
    "    levels=15,\n",
    "    geo=True,\n",
    "    coastline=True,\n",
    "    widget_type=\"scrubber\",\n",
    "    widget_location=\"bottom\",\n",
    ")"
   ]
  },
  {
   "cell_type": "code",
   "execution_count": null,
   "id": "74f9a0e6-968f-4c39-8693-64617b77ecd9",
   "metadata": {},
   "outputs": [],
   "source": [
    "era5_window[\"mag\"] = np.sqrt(era5_window.u10**2 + era5_window.v10**2)\n",
    "era5_window[\"angle\"] = (np.pi/2.) - np.arctan2(era5_window.v10, era5_window.u10)    # WTF?? I had to switch U and V in order to get the arrows to show correctly...\n"
   ]
  },
  {
   "cell_type": "code",
   "execution_count": null,
   "id": "9574e39e-b57c-4381-b086-bea6f09d2c26",
   "metadata": {},
   "outputs": [],
   "source": [
    "ww = dict(latitude=slice(20, 10), longitude=slice(230, 240))\n",
    "era5_window.sel(time=\"2023-07-14T21:00:00\", **ww).hvplot.vectorfield(\n",
    "    #groupby=\"time\",\n",
    "    x=\"longitude\", \n",
    "    y=\"latitude\",\n",
    "    angle='angle', \n",
    "    mag='mag', \n",
    "    hover=False,\n",
    "    geo=True,\n",
    "    #widget_type=\"scrubber\",\n",
    "    #widget_location=\"bottom\",\n",
    ").opts(magnitude='mag', pivot=\"tip\") + \\\n",
    "era5_window.sel(time=\"2023-07-14T14:00:00\", **ww).hvplot.vectorfield(\n",
    "    #groupby=\"time\",\n",
    "    x=\"longitude\", \n",
    "    y=\"latitude\",\n",
    "    angle='angle', \n",
    "    mag='mag', \n",
    "    hover=False,\n",
    "    geo=True,\n",
    "    #widget_type=\"scrubber\",\n",
    "    #widget_location=\"bottom\",\n",
    ").opts(magnitude='mag')"
   ]
  },
  {
   "cell_type": "code",
   "execution_count": null,
   "id": "b57ecb51-cd73-4619-97eb-1ada8a7810ca",
   "metadata": {},
   "outputs": [],
   "source": [
    "time_slice = slice(\"2023-07-10\", \"2023-07-17\")\n",
    "longitude=25\n",
    "latitude=80\n",
    "hv.Layout([\n",
    "    era5.sel(longitude=longitude, latitude=latitude, time=time_slice).msl.hvplot(grid=True),\n",
    "    era5.sel(longitude=longitude, latitude=0, time=time_slice).msl.hvplot(grid=True),\n",
    "    era5.sel(longitude=longitude, latitude=-latitude, time=time_slice).msl.hvplot(grid=True),\n",
    "    \n",
    "]).cols(1)"
   ]
  },
  {
   "cell_type": "code",
   "execution_count": null,
   "id": "132553c6-dbaf-4a44-bf98-b0f48da17ace",
   "metadata": {},
   "outputs": [],
   "source": []
  }
 ],
 "metadata": {
  "kernelspec": {
   "display_name": "panos_pos_venv",
   "language": "python",
   "name": "panos_pos_venv"
  },
  "language_info": {
   "codemirror_mode": {
    "name": "ipython",
    "version": 3
   },
   "file_extension": ".py",
   "mimetype": "text/x-python",
   "name": "python",
   "nbconvert_exporter": "python",
   "pygments_lexer": "ipython3",
   "version": "3.10.14"
  }
 },
 "nbformat": 4,
 "nbformat_minor": 5
}
