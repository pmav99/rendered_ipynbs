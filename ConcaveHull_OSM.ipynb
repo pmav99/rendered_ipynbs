{
 "cells": [
  {
   "cell_type": "code",
   "execution_count": null,
   "id": "d6b0f1c1-6a55-4373-8ce0-945ccb2fc286",
   "metadata": {},
   "outputs": [],
   "source": [
    "import hvplot.pandas\n",
    "import geopandas as gpd\n",
    "import numpy as np\n",
    "import pandas as pd\n",
    "import pyproj\n",
    "import seareport_data as D\n",
    "import shapely"
   ]
  },
  {
   "cell_type": "code",
   "execution_count": null,
   "id": "399fa28d-7edb-4de2-91ba-2395046f03e0",
   "metadata": {},
   "outputs": [],
   "source": [
    "# First let's get the OSM dataset\n",
    "# - wgs84_area is the area of the polygons calculated on the WGS84 **ellipsoid**\n",
    "# - wgs84_perimeter is the area of the perimeter calculated on the WGS84 **ellipsoid**\n",
    "# This means that they are accurate value regardless of the CRS\n",
    "OSM = D.osm_df()\n",
    "OSM"
   ]
  },
  {
   "cell_type": "code",
   "execution_count": null,
   "id": "b7cb6173-2238-40c1-8c76-779ce066273f",
   "metadata": {},
   "outputs": [],
   "source": [
    "# Let's also get the UTM tiles\n",
    "UTM = D.utm_df()\n",
    "UTM"
   ]
  },
  {
   "cell_type": "code",
   "execution_count": null,
   "id": "f129ffd6-8a24-47c5-a6ad-f11dfff8ccce",
   "metadata": {},
   "outputs": [],
   "source": [
    "# now let's pick one island to demonstrate how concave hull works\n",
    "#\n",
    "# Tip to find the FID of a specific island, load the dataset on QGIS and use the \"Idenfity Features Button\": Ctrl + Shift + I\n",
    "# To find the path to the dataset, you can use:\n",
    "# D.osm()[0]\n",
    "#\n",
    "# So, we will work with Limnos: \n",
    "island = OSM.iloc[[36593]]\n",
    "island\n",
    "island.hvplot.polygons(tiles=True, alpha=0.5)"
   ]
  },
  {
   "cell_type": "code",
   "execution_count": null,
   "id": "3fbab5e7-4045-40f3-80d4-ace3e8315c62",
   "metadata": {},
   "outputs": [],
   "source": [
    "# Now, the latest GEOS versions support concave hulls. \n",
    "# This bindings for it has been implemented on shapely/geopandas, too\n",
    "# https://shapely.readthedocs.io/en/2.0.6/reference/shapely.concave_hull.html\n",
    "# https://geopandas.org/en/latest/docs/reference/api/geopandas.GeoSeries.concave_hull.html\n",
    "# Let's see how it works\n",
    "island.concave_hull().to_frame(\"geometry\").hvplot.polygons(tiles=True, alpha=0.5)"
   ]
  },
  {
   "cell_type": "code",
   "execution_count": null,
   "id": "440364ef-2a5c-4e7e-9e05-3cfc2b1cd6ff",
   "metadata": {},
   "outputs": [],
   "source": [
    "# That's pretty horrible... What are these lines?\n",
    "# Let's see if we can tweak it:\n",
    "island.concave_hull?"
   ]
  },
  {
   "cell_type": "code",
   "execution_count": null,
   "id": "17dd1e92-2dd9-4d39-9972-3978df1ce357",
   "metadata": {},
   "outputs": [],
   "source": [
    "# Hmm. there is this `ratio` which seems to be useful. \n",
    "# Nevertheless it will not help in our case (we will still use it later on, but it will not solve this specific problem).\n",
    "# \n",
    "# The problem with this concave hull algorithm is that it is supposed to work with \n",
    "# a \"soup\" of points thar are more or less uniformly distributed.\n",
    "# More specifically, the algorithm is doing a Delauney triangulation on all the points\n",
    "# and it starts to remove the outer triangles\n",
    "#\n",
    "# The problem is that ALL our points are on the boundary of the polygon and there are no points inside it.\n",
    "# So the triangles are few and they are huge, too. \n",
    "# \n",
    "# That's the problem\n",
    "# But it can be solved. We just need to add triangles inside. \n",
    "# Let's do that. geopandas has the right method for this:\n",
    "island.sample_points?"
   ]
  },
  {
   "cell_type": "code",
   "execution_count": null,
   "id": "16c649df-ca4f-46f6-ad4e-a9dfd823d6f6",
   "metadata": {},
   "outputs": [],
   "source": [
    "# So for example:\n",
    "island.sample_points(size=500, rng=42).to_frame(\"geometry\").hvplot.points(tiles=True)"
   ]
  },
  {
   "cell_type": "code",
   "execution_count": null,
   "id": "e825cea8-d2dc-4850-abc8-87c56264b1aa",
   "metadata": {},
   "outputs": [],
   "source": [
    "# Hmm... that seems to work well enough. \n",
    "# The appropriate `size` needs to be chosen for each polygon separately, though,\n",
    "# but it shouldn't be too hard to find an appropriate formula\n",
    "def concave_hull(gdf, ratio):\n",
    "    no_points = np.maximum(gdf.no_coords, np.minimum(10_000, (gdf.wgs84_area // 10_0000).astype(int)))\n",
    "    inner = gdf.sample_points(no_points)\n",
    "    outer = gdf.boundary.apply(lambda g: shapely.MultiPoint(g.coords))\n",
    "    #outer = gdf.points\n",
    "    total = inner.union(outer)\n",
    "    a = total.concave_hull(ratio=ratio).union(gdf).union_all()\n",
    "    out = gpd.GeoDataFrame(\n",
    "        geometry=[total.concave_hull(ratio=ratio).union(gdf).union_all()], \n",
    "        crs=gdf.crs,\n",
    "    )\n",
    "    out = out.explode().exterior.polygonize().to_frame(\"geometry\")\n",
    "    return out"
   ]
  },
  {
   "cell_type": "code",
   "execution_count": null,
   "id": "e24bddc0-9730-4bf7-b888-4b6ce11c7625",
   "metadata": {},
   "outputs": [],
   "source": [
    "# For the record, we probably need to do the concave hull calculations in projected space, but for demonstration purposes it should be fine to stay on 4326"
   ]
  },
  {
   "cell_type": "code",
   "execution_count": null,
   "id": "674246b3-406c-4383-ba09-626e56d5557c",
   "metadata": {},
   "outputs": [],
   "source": [
    "concave_hull(island, 0.1).hvplot(tiles=True, alpha=0.5)"
   ]
  },
  {
   "cell_type": "code",
   "execution_count": null,
   "id": "e2520109-99ea-4b08-8371-20d06dd87940",
   "metadata": {},
   "outputs": [],
   "source": [
    "# Hey! that seemed to work!!!\n",
    "# Let's see now what `ratio` does\n",
    "concave_hull(island, 0.00).hvplot(tiles=True, alpha=0.5)\n",
    "concave_hull(island, 0.05).hvplot(tiles=True, alpha=0.5)\n",
    "concave_hull(island, 0.10).hvplot(tiles=True, alpha=0.5)\n",
    "concave_hull(island, 0.30).hvplot(tiles=True, alpha=0.5)"
   ]
  },
  {
   "cell_type": "code",
   "execution_count": null,
   "id": "943f6d98-326f-42ea-89a2-69c269dadf35",
   "metadata": {},
   "outputs": [],
   "source": [
    "# So, the higher ratio, the more convex the curve.\n",
    "# And if ratio=1.0 then we get the convex hull:\n",
    "concave_hull(island, 1).hvplot(tiles=True, alpha=0.5)\n",
    "island.convex_hull.to_frame(\"geometry\").hvplot(tiles=True, alpha=0.5)"
   ]
  },
  {
   "cell_type": "code",
   "execution_count": null,
   "id": "1b41bf86-073f-47cd-8018-d2b3edd111d9",
   "metadata": {},
   "outputs": [],
   "source": [
    "# So in a nutshell our problem is:\n",
    "# \n",
    "# For each polygon:\n",
    "#   1. Figure out an appropriate `size` for `sample_points()`. \n",
    "#   2. Figure out an appropriate `ratio` for `concave_hull()`. \n",
    "# \n",
    "# The first problem is not that difficult. Too few points means bad triangles. \n",
    "# Too many points means slow calculations. \n",
    "# So we can always just use more points than strictly necessary\n",
    "#\n",
    "# The second problem is more challenging though. If we test with more islands we will see that\n",
    "# the ratio value depends on the area of the polygon, the number of points and the \n",
    "# distribution of the points (shape of the island).\n",
    "# \n",
    "# Generally speaking, bigger islands need smaller ratios compared to smaller islands (in order to produce similar concave hulls)."
   ]
  },
  {
   "cell_type": "code",
   "execution_count": null,
   "id": "d38255fb-3e9a-4d67-8f55-44df11938f7e",
   "metadata": {},
   "outputs": [],
   "source": [
    "# Quantifying concave hulls\n",
    "# These are some ways we could try to comparing one concave hull Polygon with a different one:\n",
    "# \n",
    "# concave_hull_area / original_area\n",
    "# concave_hull_perimeter / original_perimeter\n",
    "# concave_hull_no_points / original_no_points\n",
    "#\n",
    "# To calculate these ratios we will need a help function\n",
    "\n",
    "def calc_area_and_perimeter(\n",
    "    gdf: gpd.GeoDataFrame,\n",
    "    geod: pyproj.Geod = pyproj.Geod(ellps=\"WGS84\"),\n",
    "    *,\n",
    "    sort: bool = False,\n",
    ") -> gpd.GeoDataFrame:\n",
    "    assert gdf.crs is not None, \"CRS must be defined!\"\n",
    "    area_and_perimeter = gdf.to_crs(4326).geometry.apply(geod.geometry_area_perimeter).apply(pd.Series)\n",
    "    area_and_perimeter = area_and_perimeter.rename(columns={0: \"area\", 1: \"perimeter\"})\n",
    "    area_and_perimeter.area *= -1\n",
    "    gdf = gdf.assign(\n",
    "        wgs84_area=area_and_perimeter.area,\n",
    "        wgs84_perimeter=area_and_perimeter.perimeter,\n",
    "        no_coords=gdf.count_coordinates() - 1,\n",
    "    )\n",
    "    if sort:\n",
    "        gdf = gdf.sort_values(\"wgs84_area\", ascending=False).reset_index(drop=True)\n",
    "    return gdf\n",
    "\n",
    "concave_0000 = calc_area_and_perimeter(concave_hull(island, 0.00))\n",
    "concave_0050 = calc_area_and_perimeter(concave_hull(island, 0.05))\n",
    "concave_0100 = calc_area_and_perimeter(concave_hull(island, 0.10))\n",
    "concave_1000 = calc_area_and_perimeter(island.convex_hull.to_frame(\"geometry\")).reset_index(drop=True)\n",
    "pd.concat([concave_0000, concave_0050, concave_0100, concave_1000]).drop(columns=[\"geometry\"]).divide(island.drop(columns=[\"geometry\", \"fid\"]).reset_index(drop=True), axis=1)"
   ]
  },
  {
   "cell_type": "code",
   "execution_count": null,
   "id": "4ac1a670-1312-49a9-b827-ac0c61086353",
   "metadata": {},
   "outputs": [],
   "source": [
    "# here are the raw numbers\n",
    "pd.concat([island, concave_0000, concave_0050, concave_0100, concave_1000])"
   ]
  },
  {
   "cell_type": "code",
   "execution_count": null,
   "id": "32b8b52e-7f96-4aff-bd9a-b1ad7c55bb13",
   "metadata": {},
   "outputs": [],
   "source": [
    "# Apart from that we can also use the hausdorf distance\n",
    "# (i.e. the maximum distance of the closest nodes): https://en.wikipedia.org/wiki/Hausdorff_distance\n",
    "#\n",
    "# In a nutshell, the hausdorff distance is the maxium distance between an island node and its closest mesh node.\n",
    "# \n",
    "# Since the calculation of the hausdorff distnace needs to happen on a Projected CRS we will use the appropriate UTM zone.\n",
    "island_32635 = island.to_crs(32635)\n",
    "float(concave_0000.to_crs(32635).hausdorff_distance(island_32635, align=False).iloc[0])\n",
    "float(concave_0050.to_crs(32635).hausdorff_distance(island_32635, align=False).iloc[0])\n",
    "float(concave_0100.to_crs(32635).hausdorff_distance(island_32635, align=False).iloc[0])\n",
    "float(concave_1000.to_crs(32635).hausdorff_distance(island_32635, align=False).iloc[0])"
   ]
  }
 ],
 "metadata": {
  "kernelspec": {
   "display_name": "Python 3 (ipykernel)",
   "language": "python",
   "name": "python3"
  },
  "language_info": {
   "codemirror_mode": {
    "name": "ipython",
    "version": 3
   },
   "file_extension": ".py",
   "mimetype": "text/x-python",
   "name": "python",
   "nbconvert_exporter": "python",
   "pygments_lexer": "ipython3",
   "version": "3.11.9"
  }
 },
 "nbformat": 4,
 "nbformat_minor": 5
}
